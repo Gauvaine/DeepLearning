{
 "cells": [
  {
   "cell_type": "code",
   "execution_count": 32,
   "id": "cf013d9a",
   "metadata": {},
   "outputs": [],
   "source": [
    "import pandas as pd\n",
    "from perceptron import Perceptron"
   ]
  },
  {
   "cell_type": "code",
   "execution_count": 39,
   "id": "ba0a9fc8",
   "metadata": {},
   "outputs": [],
   "source": [
    "# 定义激活函数f\n",
    "def active_function(x):\n",
    "    # return x\n",
    "    if x < 0.5:\n",
    "        return 0\n",
    "    elif x > 0.5 and x < 2:\n",
    "        return 1\n",
    "    elif x > 2:\n",
    "        return 2\n",
    "\n",
    "class LinearUnit(Perceptron):\n",
    "    def __init__(self, input_num):\n",
    "        '''初始化线性单元，设置输入参数的个数'''\n",
    "        Perceptron.__init__(self, input_num, activator=active_function)"
   ]
  },
  {
   "cell_type": "code",
   "execution_count": 40,
   "id": "1bd0dce0",
   "metadata": {},
   "outputs": [],
   "source": [
    "# 读取 Iris 数据集并构建模型训练所需的输入数据和标签\n",
    "def get_training_dataset():\n",
    "    data = pd.read_csv('data/iris/iris.data', header=None)\n",
    "    # 将数据集的前四列作为输入特征 x，将第五列（索引为 4）进行分类编码得到标签 y\n",
    "    # y:0 (stands for Iris-setosa), 1 (stands for Iris-versicolor), and 2 (stands for Iris-virginica)\n",
    "    x, y = data[[0, 1, 2, 3]], pd.Categorical(data[4]).codes\n",
    "    # pd.to_list pd.Categorical(data[4]).codes 的返回值是一个 NumPy 数组\n",
    "    # .codes 属性返回了这个分类数据对应的整数编码，其已经是整数编码的类别标签，不需要再转换为列表。\n",
    "    \n",
    "    input_vecs = x.values.tolist()\n",
    "    labels = y.tolist()\n",
    "    # print(input_vecs)\n",
    "    # print(type(labels), labels)\n",
    "    # 返回输入向量列表和标签列表作为训练数据 \n",
    "    return input_vecs, labels"
   ]
  },
  {
   "cell_type": "code",
   "execution_count": 41,
   "id": "9e3990e7",
   "metadata": {},
   "outputs": [],
   "source": [
    "def train_linear_unit():\n",
    "    '''\n",
    "    使用数据训练线性单元\n",
    "    '''\n",
    "    # 创建感知器，输入参数的特征数为4\n",
    "    lu = LinearUnit(4)\n",
    "    # 训练，迭代10000轮, 学习速率为0.001\n",
    "    input_vecs, labels = get_training_dataset()\n",
    "    lu.train(input_vecs, labels, 10000, 0.001)\n",
    "    # 返回训练好的线性单元\n",
    "    return lu\n",
    "\n",
    "\n",
    "def plot(linear_unit):\n",
    "    import matplotlib.pyplot as plt\n",
    "    input_vecs, labels = get_training_dataset()\n",
    "    fig = plt.figure()\n",
    "    ax = fig.add_subplot(111)\n",
    "    ax.scatter(list(map(lambda x: x[0], input_vecs)), labels)\n",
    "    \n",
    "    weights = linear_unit.weights\n",
    "    bias = linear_unit.bias\n",
    "    x = range(0,12,1)\n",
    "    y = list(map(lambda x:weights[0] * x + bias, x))\n",
    "    ax.plot(x, y)\n",
    "    \n",
    "    plt.show()"
   ]
  },
  {
   "cell_type": "code",
   "execution_count": 42,
   "id": "e47a7fa9",
   "metadata": {},
   "outputs": [
    {
     "name": "stdout",
     "output_type": "stream",
     "text": [
      "predict\n",
      "0\n",
      "2\n",
      "2\n",
      "1\n"
     ]
    },
    {
     "data": {
      "image/png": "[encoded data removed]",
      "text/plain": [
       "<Figure size 640x480 with 1 Axes>"
      ]
     },
     "metadata": {},
     "output_type": "display_data"
    }
   ],
   "source": [
    "if __name__ == '__main__':\n",
    "    '''训练线性单元'''\n",
    "    linear_unit = train_linear_unit()\n",
    "    print(\"predict\")\n",
    "    print(linear_unit.predict([5.1, 3.5, 1.4, 0.2]))\n",
    "    print(linear_unit.predict([5.9, 3.0, 5.1, 1.8]))\n",
    "    print(linear_unit.predict([6.0,2.2,5.0,1.5]))\n",
    "    print(linear_unit.predict([6.0, 3.4, 4.5, 1.6]))\n",
    "    plot(linear_unit)\n",
    "\n",
    "    # 打印训练获得的权重"
   ]
  },
  {
   "cell_type": "code",
   "execution_count": null,
   "id": "fb1ad437",
   "metadata": {},
   "outputs": [],
   "source": []
  }
 ],
 "metadata": {
  "kernelspec": {
   "display_name": "Python 3 (ipykernel)",
   "language": "python",
   "name": "python3"
  },
  "language_info": {
   "codemirror_mode": {
    "name": "ipython",
    "version": 3
   },
   "file_extension": ".py",
   "mimetype": "text/x-python",
   "name": "python",
   "nbconvert_exporter": "python",
   "pygments_lexer": "ipython3",
   "version": "3.11.3"
  }
 },
 "nbformat": 4,
 "nbformat_minor": 5
}
