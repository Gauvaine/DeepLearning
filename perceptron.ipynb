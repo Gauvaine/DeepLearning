{
 "cells": [
  {
   "cell_type": "code",
   "execution_count": 5,
   "id": "dda8abb2",
   "metadata": {},
   "outputs": [],
   "source": [
    "# lambda (x, y): x + y\n",
    "# will be translated into:\n",
    "# lambda x_y: x_y[0] + x_y[1]\n",
    "\n",
    "# 在 Python 3 中，map 返回的是一个迭代器，而不是列表。因此，使用 list 函数将其转换为列表：\n",
    "from functools import reduce"
   ]
  },
  {
   "cell_type": "raw",
   "id": "8240a64a",
   "metadata": {},
   "source": [
    "为什么写VectorOp类"
   ]
  },
  {
   "cell_type": "code",
   "execution_count": 6,
   "id": "4b50b5a5",
   "metadata": {},
   "outputs": [],
   "source": [
    "class VectorOp(object):\n",
    "    \"\"\"\n",
    "    实现向量计算操作\n",
    "    \"\"\"\n",
    "    @staticmethod\n",
    "    def dot(x, y):\n",
    "        \"\"\"\n",
    "        计算两个向量x和y的内积\n",
    "        \"\"\"\n",
    "        # 首先把x[x1,x2,x3...]和y[y1,y2,y3,...]按元素相乘\n",
    "        # 变成[x1*y1, x2*y2, x3*y3]\n",
    "        # 然后利用reduce求和\n",
    "        return reduce(lambda a, b: a + b, VectorOp.element_multiply(x, y), 0.0)\n",
    "\n",
    "    @staticmethod\n",
    "    def element_multiply(x, y):\n",
    "        \"\"\"\n",
    "        将两个向量x和y按元素相乘\n",
    "        \"\"\"\n",
    "        # 首先把x[x1,x2,x3...]和y[y1,y2,y3,...]打包在一起\n",
    "        # 变成[(x1,y1),(x2,y2),(x3,y3),...]\n",
    "        # 然后利用map函数计算[x1*y1, x2*y2, x3*y3]\n",
    "        return list(map(lambda x_y: x_y[0] * x_y[1], zip(x, y)))\n",
    "    \n",
    "    @staticmethod\n",
    "    def element_add(x, y):\n",
    "        \"\"\"\n",
    "        将两个向量x和y按元素相加\n",
    "        \"\"\"\n",
    "        # 首先把x[x1,x2,x3...]和y[y1,y2,y3,...]打包在一起\n",
    "        # 变成[(x1,y1),(x2,y2),(x3,y3),...]\n",
    "        # 然后利用map函数计算[x1+y1, x2+y2, x3+y3]\n",
    "        return list(map(lambda x_y: x_y[0] + x_y[1], zip(x, y)))\n",
    "\n",
    "    @staticmethod\n",
    "    def scala_multiply(v, s):\n",
    "        \"\"\"\n",
    "        将向量v中的每个元素和标量s相乘\n",
    "        \"\"\"\n",
    "        return map(lambda e: e * s, v)"
   ]
  },
  {
   "cell_type": "code",
   "execution_count": 7,
   "id": "c7094003",
   "metadata": {},
   "outputs": [],
   "source": [
    "class Perceptron(object):\n",
    "    def __init__(self, input_num, activator):\n",
    "        self.activator = activator\n",
    "        self.weights = [0.0 for _ in range(input_num)]\n",
    "        self.bias = 0.0\n",
    "\n",
    "    def __str__(self):\n",
    "        return 'weights\\t:%s\\n bias\\t:%f\\n' % (self.weights, self.bias)\n",
    "\n",
    "    # 输入向量，输出感知器的计算结果\n",
    "    def predict(self, input_vec):\n",
    "        return self.activator(\n",
    "            reduce(lambda a, b: a + b,\n",
    "                   map(lambda x_w: x_w[0] * x_w[1],\n",
    "                       zip(input_vec, self.weights))\n",
    "                   , 0.0) + self.bias)\n",
    "\n",
    "    # 输入训练数据：一组向量、与每个向量对应的label；以及训练轮数、学习率\n",
    "    def train(self, input_vecs, labels, iteration, rate):\n",
    "        for i in range(iteration):\n",
    "            self._one_iteration(input_vecs, labels, rate)\n",
    "\n",
    "    # 一次迭代，把所有的训练数据过一遍\n",
    "    def _one_iteration(self, input_vecs, labels, rate):\n",
    "        samples = zip(input_vecs, labels)\n",
    "        for (input_vec, label) in samples:\n",
    "            output = self.predict(input_vec)\n",
    "            self._update_weights(input_vec, output, label, rate)\n",
    "\n",
    "    # 按照感知器规则更新权重\n",
    "    def _update_weights(self, input_vec, output, label, rate):\n",
    "        delta = label - output\n",
    "        # 此处需要将map返回的迭代器转换成列表\n",
    "        self.weights = list(map(\n",
    "            lambda x_w: x_w[1] + rate * delta * x_w[0],\n",
    "            zip(input_vec, self.weights)))\n",
    "        self.bias += rate * delta\n",
    "\n",
    "# 定义激活函数f\n",
    "def f(x):\n",
    "    return 1 if x > 0 else 0\n",
    "\n",
    "# 基于and真值表构建训练数据\n",
    "def get_training_dataset():\n",
    "    input_vecs = [[1, 1], [0, 0], [1, 0], [0, 1]]\n",
    "    labels = [1, 0, 0, 0]\n",
    "    return input_vecs, labels\n",
    "\n",
    "# 使用and真值表训练感知器\n",
    "def train_and_perceptron():\n",
    "    p = Perceptron(2, f)\n",
    "    input_vecs, labels = get_training_dataset()\n",
    "    p.train(input_vecs, labels, 10, 0.1)\n",
    "    return p"
   ]
  },
  {
   "cell_type": "code",
   "execution_count": 8,
   "id": "b783828c",
   "metadata": {},
   "outputs": [
    {
     "name": "stdout",
     "output_type": "stream",
     "text": [
      "weights\t:[0.1, 0.2]\n",
      " bias\t:-0.200000\n",
      "\n",
      "1 and 1 = 1\n",
      "1 and 0 = 0\n",
      "0 and 0 = 0\n",
      "0 and 1 = 0\n"
     ]
    }
   ],
   "source": [
    "if __name__ == '__main__':\n",
    "    and_perception = train_and_perceptron()\n",
    "    print(and_perception)\n",
    "\n",
    "    print('1 and 1 = %d' % and_perception.predict([1, 1]))\n",
    "    print('1 and 0 = %d' % and_perception.predict([1, 0]))\n",
    "    print('0 and 0 = %d' % and_perception.predict([0, 0]))\n",
    "    print('0 and 1 = %d' % and_perception.predict([0, 1]))"
   ]
  },
  {
   "cell_type": "code",
   "execution_count": null,
   "id": "826b7d48",
   "metadata": {},
   "outputs": [],
   "source": []
  }
 ],
 "metadata": {
  "kernelspec": {
   "display_name": "Python 3 (ipykernel)",
   "language": "python",
   "name": "python3"
  },
  "language_info": {
   "codemirror_mode": {
    "name": "ipython",
    "version": 3
   },
   "file_extension": ".py",
   "mimetype": "text/x-python",
   "name": "python",
   "nbconvert_exporter": "python",
   "pygments_lexer": "ipython3",
   "version": "3.11.3"
  }
 },
 "nbformat": 4,
 "nbformat_minor": 5
}
