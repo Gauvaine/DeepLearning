{
 "cells": [
  {
   "cell_type": "code",
   "execution_count": null,
   "id": "58082cd1",
   "metadata": {},
   "outputs": [],
   "source": [
    "import numpy as np\n",
    "\n",
    "\n",
    "class ReluActivator(object):\n",
    "    def forward(self, weighted_input):\n",
    "        #return weighted_input\n",
    "        return max(0, weighted_input)\n",
    "\n",
    "    def backward(self, output):\n",
    "        return 1 if output > 0 else 0\n",
    "\n",
    "\n",
    "class IdentityActivator(object):\n",
    "    def forward(self, weighted_input):\n",
    "        return weighted_input\n",
    "\n",
    "    def backward(self, output):\n",
    "        return 1\n",
    "\n",
    "\n",
    "class SigmoidActivator(object):\n",
    "    def forward(self, weighted_input):\n",
    "        return 1.0 / (1.0 + np.exp(-weighted_input))\n",
    "\n",
    "    def backward(self, output):\n",
    "        return output * (1 - output)\n",
    "\n",
    "\n",
    "class TanhActivator(object):\n",
    "    def forward(self, weighted_input):\n",
    "        return 2.0 / (1.0 + np.exp(-2 * weighted_input)) - 1.0\n",
    "\n",
    "    def backward(self, output):\n",
    "        return 1 - output * output"
   ]
  }
 ],
 "metadata": {
  "kernelspec": {
   "display_name": "Python 3 (ipykernel)",
   "language": "python",
   "name": "python3"
  },
  "language_info": {
   "codemirror_mode": {
    "name": "ipython",
    "version": 3
   },
   "file_extension": ".py",
   "mimetype": "text/x-python",
   "name": "python",
   "nbconvert_exporter": "python",
   "pygments_lexer": "ipython3",
   "version": "3.11.3"
  }
 },
 "nbformat": 4,
 "nbformat_minor": 5
}
